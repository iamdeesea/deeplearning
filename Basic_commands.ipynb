{
  "nbformat": 4,
  "nbformat_minor": 0,
  "metadata": {
    "colab": {
      "provenance": [],
      "authorship_tag": "ABX9TyM0lMa3PJlyINYiN7+zWGNn",
      "include_colab_link": true
    },
    "kernelspec": {
      "name": "python3",
      "display_name": "Python 3"
    },
    "language_info": {
      "name": "python"
    }
  },
  "cells": [
    {
      "cell_type": "markdown",
      "metadata": {
        "id": "view-in-github",
        "colab_type": "text"
      },
      "source": [
        "<a href=\"https://colab.research.google.com/github/iamdeesea/deeplearning/blob/main/Basic_commands.ipynb\" target=\"_parent\"><img src=\"https://colab.research.google.com/assets/colab-badge.svg\" alt=\"Open In Colab\"/></a>"
      ]
    },
    {
      "cell_type": "code",
      "execution_count": 18,
      "metadata": {
        "colab": {
          "base_uri": "https://localhost:8080/"
        },
        "id": "i_-j-ooCzQd9",
        "outputId": "dfeaee03-70ff-4d2b-8472-79f74ee054ba"
      },
      "outputs": [
        {
          "output_type": "stream",
          "name": "stdout",
          "text": [
            "/content/own_data_cnn_implementation_keras\n"
          ]
        }
      ],
      "source": [
        "!pwd"
      ]
    },
    {
      "cell_type": "code",
      "source": [
        "cd sample_data\n"
      ],
      "metadata": {
        "colab": {
          "base_uri": "https://localhost:8080/"
        },
        "id": "1snc5iAEz88i",
        "outputId": "6cbd06bd-8e11-4e1e-f818-a1c7f37799bc"
      },
      "execution_count": 19,
      "outputs": [
        {
          "output_type": "stream",
          "name": "stdout",
          "text": [
            "[Errno 2] No such file or directory: 'sample_data'\n",
            "/content/own_data_cnn_implementation_keras\n"
          ]
        }
      ]
    },
    {
      "cell_type": "code",
      "source": [
        "lis"
      ],
      "metadata": {
        "colab": {
          "base_uri": "https://localhost:8080/",
          "height": 141
        },
        "id": "bW6Pgk0u0G4V",
        "outputId": "9328bf73-8076-41e2-8335-d43bbf47bc20"
      },
      "execution_count": 20,
      "outputs": [
        {
          "output_type": "error",
          "ename": "NameError",
          "evalue": "name 'lis' is not defined",
          "traceback": [
            "\u001b[0;31m---------------------------------------------------------------------------\u001b[0m",
            "\u001b[0;31mNameError\u001b[0m                                 Traceback (most recent call last)",
            "\u001b[0;32m/tmp/ipython-input-20-271465559.py\u001b[0m in \u001b[0;36m<cell line: 0>\u001b[0;34m()\u001b[0m\n\u001b[0;32m----> 1\u001b[0;31m \u001b[0mlis\u001b[0m\u001b[0;34m\u001b[0m\u001b[0;34m\u001b[0m\u001b[0m\n\u001b[0m",
            "\u001b[0;31mNameError\u001b[0m: name 'lis' is not defined"
          ]
        }
      ]
    },
    {
      "cell_type": "code",
      "source": [
        "!ls"
      ],
      "metadata": {
        "colab": {
          "base_uri": "https://localhost:8080/"
        },
        "id": "80acZzqn0IJ3",
        "outputId": "1e112b50-9bb8-4385-a843-23fa264a0b7c"
      },
      "execution_count": 21,
      "outputs": [
        {
          "output_type": "stream",
          "name": "stdout",
          "text": [
            "own_data_cnn_implementation_keras\n"
          ]
        }
      ]
    },
    {
      "cell_type": "code",
      "source": [
        "!git clone https://github.com/anujshah1003/own_data_cnn_implementation_keras.git"
      ],
      "metadata": {
        "colab": {
          "base_uri": "https://localhost:8080/"
        },
        "id": "fqazlFjC0Joe",
        "outputId": "3d170967-37c1-4e5f-e574-1f5ca007a7cf"
      },
      "execution_count": 23,
      "outputs": [
        {
          "output_type": "stream",
          "name": "stdout",
          "text": [
            "fatal: destination path 'own_data_cnn_implementation_keras' already exists and is not an empty directory.\n"
          ]
        }
      ]
    },
    {
      "cell_type": "code",
      "source": [
        "cd .."
      ],
      "metadata": {
        "colab": {
          "base_uri": "https://localhost:8080/"
        },
        "id": "juakkSkM0olV",
        "outputId": "d29b07f0-cfba-4336-f03c-8a2e1647e833"
      },
      "execution_count": 24,
      "outputs": [
        {
          "output_type": "stream",
          "name": "stdout",
          "text": [
            "/content\n"
          ]
        }
      ]
    },
    {
      "cell_type": "code",
      "source": [
        "!ls\n"
      ],
      "metadata": {
        "colab": {
          "base_uri": "https://localhost:8080/"
        },
        "id": "-4V2Rk061pUB",
        "outputId": "7a8e1de4-f78e-4914-f564-aba8dfaf4d02"
      },
      "execution_count": 25,
      "outputs": [
        {
          "output_type": "stream",
          "name": "stdout",
          "text": [
            "own_data_cnn_implementation_keras  sample_data\n"
          ]
        }
      ]
    },
    {
      "cell_type": "code",
      "source": [
        "!git clone https://github.com/anujshah1003/own_data_cnn_implementation_keras.git"
      ],
      "metadata": {
        "colab": {
          "base_uri": "https://localhost:8080/"
        },
        "id": "CKyngMI21q2v",
        "outputId": "d87492de-ee23-48b5-efe1-c376eb954acb"
      },
      "execution_count": 26,
      "outputs": [
        {
          "output_type": "stream",
          "name": "stdout",
          "text": [
            "fatal: destination path 'own_data_cnn_implementation_keras' already exists and is not an empty directory.\n"
          ]
        }
      ]
    },
    {
      "cell_type": "code",
      "source": [
        "cd /content/own_data_cnn_implementation_keras/\n"
      ],
      "metadata": {
        "colab": {
          "base_uri": "https://localhost:8080/"
        },
        "id": "R5QXRV431vM8",
        "outputId": "7430d4bb-b197-4daf-c759-7eaaa7d6a2d8"
      },
      "execution_count": 27,
      "outputs": [
        {
          "output_type": "stream",
          "name": "stdout",
          "text": [
            "/content/own_data_cnn_implementation_keras\n"
          ]
        }
      ]
    },
    {
      "cell_type": "code",
      "source": [
        "!rm -rf custom_data_cnn.py updated_custom_data_cnn.py"
      ],
      "metadata": {
        "id": "8-oaADt32AYH"
      },
      "execution_count": 28,
      "outputs": []
    },
    {
      "cell_type": "code",
      "source": [
        "!ls\n"
      ],
      "metadata": {
        "colab": {
          "base_uri": "https://localhost:8080/"
        },
        "id": "JNxi3rvq2HWW",
        "outputId": "1c3bc7eb-9f8f-482a-dd4a-46d7cc5cc1cf"
      },
      "execution_count": 29,
      "outputs": [
        {
          "output_type": "stream",
          "name": "stdout",
          "text": [
            "own_data_cnn_implementation_keras\n"
          ]
        }
      ]
    },
    {
      "cell_type": "code",
      "source": [
        "!rm -rf _config.yml README.md"
      ],
      "metadata": {
        "id": "D7oZa5Rc2Km5"
      },
      "execution_count": 30,
      "outputs": []
    },
    {
      "cell_type": "code",
      "source": [
        "!ls\n"
      ],
      "metadata": {
        "colab": {
          "base_uri": "https://localhost:8080/"
        },
        "id": "VeddfifU2QfX",
        "outputId": "6691dfc9-ab85-47d0-c448-c4a4779e94a1"
      },
      "execution_count": null,
      "outputs": [
        {
          "output_type": "stream",
          "name": "stdout",
          "text": [
            "own_data_cnn_implementation_keras\n"
          ]
        }
      ]
    },
    {
      "cell_type": "code",
      "source": [
        "cd ..\n"
      ],
      "metadata": {
        "id": "K5NGzu5g2UKu",
        "colab": {
          "base_uri": "https://localhost:8080/"
        },
        "outputId": "776e7b6b-5892-433a-952d-9a46f3228068"
      },
      "execution_count": 31,
      "outputs": [
        {
          "output_type": "stream",
          "name": "stdout",
          "text": [
            "/content\n"
          ]
        }
      ]
    },
    {
      "cell_type": "code",
      "source": [
        "!rm -rf own_data_cnn_implementation_keras"
      ],
      "metadata": {
        "id": "WY_aE6Sn_2w3"
      },
      "execution_count": 32,
      "outputs": []
    },
    {
      "cell_type": "code",
      "source": [
        "!git clone https://github.com/anujshah1003/own_data_cnn_implementation_keras.git"
      ],
      "metadata": {
        "colab": {
          "base_uri": "https://localhost:8080/"
        },
        "id": "G5aWZMIb_6Ox",
        "outputId": "12136adb-33d9-4fe3-f097-0e6e577c1239"
      },
      "execution_count": 33,
      "outputs": [
        {
          "output_type": "stream",
          "name": "stdout",
          "text": [
            "Cloning into 'own_data_cnn_implementation_keras'...\n",
            "remote: Enumerating objects: 57, done.\u001b[K\n",
            "remote: Counting objects:  16% (1/6)\u001b[K\rremote: Counting objects:  33% (2/6)\u001b[K\rremote: Counting objects:  50% (3/6)\u001b[K\rremote: Counting objects:  66% (4/6)\u001b[K\rremote: Counting objects:  83% (5/6)\u001b[K\rremote: Counting objects: 100% (6/6)\u001b[K\rremote: Counting objects: 100% (6/6), done.\u001b[K\n",
            "remote: Compressing objects: 100% (6/6), done.\u001b[K\n",
            "remote: Total 57 (delta 2), reused 0 (delta 0), pack-reused 51 (from 1)\u001b[K\n",
            "Receiving objects: 100% (57/57), 19.04 MiB | 32.76 MiB/s, done.\n",
            "Resolving deltas: 100% (21/21), done.\n"
          ]
        }
      ]
    },
    {
      "cell_type": "code",
      "source": [
        "!pwd\n"
      ],
      "metadata": {
        "colab": {
          "base_uri": "https://localhost:8080/"
        },
        "id": "zXbMy52KAIP9",
        "outputId": "b18b4cb1-35b2-49c9-987b-e5df49366537"
      },
      "execution_count": 34,
      "outputs": [
        {
          "output_type": "stream",
          "name": "stdout",
          "text": [
            "/content\n"
          ]
        }
      ]
    },
    {
      "cell_type": "code",
      "source": [
        "cd /content/own_data_cnn_implementation_keras/"
      ],
      "metadata": {
        "colab": {
          "base_uri": "https://localhost:8080/"
        },
        "id": "OdZvX1fgALgf",
        "outputId": "7c213b01-926b-4fc3-c05c-7b0934d706e8"
      },
      "execution_count": 35,
      "outputs": [
        {
          "output_type": "stream",
          "name": "stdout",
          "text": [
            "/content/own_data_cnn_implementation_keras\n"
          ]
        }
      ]
    },
    {
      "cell_type": "code",
      "source": [
        "!ls\n"
      ],
      "metadata": {
        "colab": {
          "base_uri": "https://localhost:8080/"
        },
        "id": "u7v7JwUkAO2t",
        "outputId": "4cfd58a2-0650-45a9-e094-a061382d0606"
      },
      "execution_count": 36,
      "outputs": [
        {
          "output_type": "stream",
          "name": "stdout",
          "text": [
            "_config.yml\t    data.zip   updated_custom_data_cnn.py\n",
            "custom_data_cnn.py  README.md\n"
          ]
        }
      ]
    },
    {
      "cell_type": "code",
      "source": [
        "!rm -rf custom_data_cnn.py updated_custom_data_cnn.py"
      ],
      "metadata": {
        "id": "XT_V07JUAQGS"
      },
      "execution_count": 37,
      "outputs": []
    },
    {
      "cell_type": "code",
      "source": [
        "!ls\n"
      ],
      "metadata": {
        "colab": {
          "base_uri": "https://localhost:8080/"
        },
        "id": "dGCfXzI5AUur",
        "outputId": "49040e71-797c-4004-b4c2-417d8cdb5378"
      },
      "execution_count": 38,
      "outputs": [
        {
          "output_type": "stream",
          "name": "stdout",
          "text": [
            "_config.yml  data.zip  README.md\n"
          ]
        }
      ]
    },
    {
      "cell_type": "code",
      "source": [
        "!rm -rf _config.yml README.md"
      ],
      "metadata": {
        "id": "YyPCuguCAVfS"
      },
      "execution_count": 39,
      "outputs": []
    },
    {
      "cell_type": "code",
      "source": [
        "from zipfile import ZipFile\n",
        "file_name=\"data.zip\"\n",
        "with ZipFile(file_name,'r') as zip:\n",
        "  zip.extractall()\n",
        "  print(\"finish\")"
      ],
      "metadata": {
        "colab": {
          "base_uri": "https://localhost:8080/"
        },
        "id": "mrCldZn5AeS9",
        "outputId": "26a56216-4c5e-46f7-bcc0-64d23936c117"
      },
      "execution_count": 43,
      "outputs": [
        {
          "output_type": "stream",
          "name": "stdout",
          "text": [
            "finish\n"
          ]
        }
      ]
    },
    {
      "cell_type": "code",
      "source": [
        "!ls\n"
      ],
      "metadata": {
        "colab": {
          "base_uri": "https://localhost:8080/"
        },
        "id": "x2QryS5sAzCF",
        "outputId": "efc29f58-29d4-4ccc-9a0c-91b01afeabea"
      },
      "execution_count": 44,
      "outputs": [
        {
          "output_type": "stream",
          "name": "stdout",
          "text": [
            "data  data.zip\n"
          ]
        }
      ]
    },
    {
      "cell_type": "code",
      "source": [
        "!rm -rf data.zip"
      ],
      "metadata": {
        "id": "WLBjgTpVBjY7"
      },
      "execution_count": 45,
      "outputs": []
    },
    {
      "cell_type": "code",
      "source": [
        "cd data/"
      ],
      "metadata": {
        "colab": {
          "base_uri": "https://localhost:8080/"
        },
        "id": "EPKpD-zJBm6d",
        "outputId": "88447c59-e57a-43d5-9ca1-e26dced37955"
      },
      "execution_count": 46,
      "outputs": [
        {
          "output_type": "stream",
          "name": "stdout",
          "text": [
            "/content/own_data_cnn_implementation_keras/data\n"
          ]
        }
      ]
    },
    {
      "cell_type": "code",
      "source": [
        "!ls"
      ],
      "metadata": {
        "colab": {
          "base_uri": "https://localhost:8080/"
        },
        "id": "XqHy_C_hBo_1",
        "outputId": "bf9e3040-76b1-48e6-c37a-753925de3454"
      },
      "execution_count": 47,
      "outputs": [
        {
          "output_type": "stream",
          "name": "stdout",
          "text": [
            "cats  dogs  horses  humans\n"
          ]
        }
      ]
    },
    {
      "cell_type": "code",
      "source": [
        "cd cats/"
      ],
      "metadata": {
        "colab": {
          "base_uri": "https://localhost:8080/"
        },
        "id": "kRPXo6YPBrnw",
        "outputId": "36d2fa7b-bb3f-4958-e197-c71153100cdc"
      },
      "execution_count": 48,
      "outputs": [
        {
          "output_type": "stream",
          "name": "stdout",
          "text": [
            "/content/own_data_cnn_implementation_keras/data/cats\n"
          ]
        }
      ]
    },
    {
      "cell_type": "code",
      "source": [
        "!ls"
      ],
      "metadata": {
        "colab": {
          "base_uri": "https://localhost:8080/"
        },
        "id": "v7oHe6oLBzoP",
        "outputId": "f66cab4f-d2c5-4547-c88e-e15772427c70"
      },
      "execution_count": 49,
      "outputs": [
        {
          "output_type": "stream",
          "name": "stdout",
          "text": [
            "cat.100.jpg  cat.131.jpg  cat.162.jpg  cat.193.jpg  cat.40.jpg\tcat.71.jpg\n",
            "cat.101.jpg  cat.132.jpg  cat.163.jpg  cat.194.jpg  cat.41.jpg\tcat.72.jpg\n",
            "cat.102.jpg  cat.133.jpg  cat.164.jpg  cat.195.jpg  cat.42.jpg\tcat.73.jpg\n",
            "cat.103.jpg  cat.134.jpg  cat.165.jpg  cat.196.jpg  cat.43.jpg\tcat.74.jpg\n",
            "cat.104.jpg  cat.135.jpg  cat.166.jpg  cat.197.jpg  cat.44.jpg\tcat.75.jpg\n",
            "cat.105.jpg  cat.136.jpg  cat.167.jpg  cat.198.jpg  cat.45.jpg\tcat.76.jpg\n",
            "cat.106.jpg  cat.137.jpg  cat.168.jpg  cat.199.jpg  cat.46.jpg\tcat.77.jpg\n",
            "cat.107.jpg  cat.138.jpg  cat.169.jpg  cat.19.jpg   cat.47.jpg\tcat.78.jpg\n",
            "cat.108.jpg  cat.139.jpg  cat.16.jpg   cat.1.jpg    cat.48.jpg\tcat.79.jpg\n",
            "cat.109.jpg  cat.13.jpg   cat.170.jpg  cat.200.jpg  cat.49.jpg\tcat.7.jpg\n",
            "cat.10.jpg   cat.140.jpg  cat.171.jpg  cat.201.jpg  cat.4.jpg\tcat.80.jpg\n",
            "cat.110.jpg  cat.141.jpg  cat.172.jpg  cat.202.jpg  cat.50.jpg\tcat.81.jpg\n",
            "cat.111.jpg  cat.142.jpg  cat.173.jpg  cat.20.jpg   cat.51.jpg\tcat.82.jpg\n",
            "cat.112.jpg  cat.143.jpg  cat.174.jpg  cat.21.jpg   cat.52.jpg\tcat.83.jpg\n",
            "cat.113.jpg  cat.144.jpg  cat.175.jpg  cat.22.jpg   cat.53.jpg\tcat.84.jpg\n",
            "cat.114.jpg  cat.145.jpg  cat.176.jpg  cat.23.jpg   cat.54.jpg\tcat.85.jpg\n",
            "cat.115.jpg  cat.146.jpg  cat.177.jpg  cat.24.jpg   cat.55.jpg\tcat.86.jpg\n",
            "cat.116.jpg  cat.147.jpg  cat.178.jpg  cat.25.jpg   cat.56.jpg\tcat.87.jpg\n",
            "cat.117.jpg  cat.148.jpg  cat.179.jpg  cat.26.jpg   cat.57.jpg\tcat.88.jpg\n",
            "cat.118.jpg  cat.149.jpg  cat.17.jpg   cat.27.jpg   cat.58.jpg\tcat.89.jpg\n",
            "cat.119.jpg  cat.14.jpg   cat.180.jpg  cat.28.jpg   cat.59.jpg\tcat.8.jpg\n",
            "cat.11.jpg   cat.150.jpg  cat.181.jpg  cat.29.jpg   cat.5.jpg\tcat.90.jpg\n",
            "cat.120.jpg  cat.151.jpg  cat.182.jpg  cat.2.jpg    cat.60.jpg\tcat.91.jpg\n",
            "cat.121.jpg  cat.152.jpg  cat.183.jpg  cat.30.jpg   cat.61.jpg\tcat.92.jpg\n",
            "cat.122.jpg  cat.153.jpg  cat.184.jpg  cat.31.jpg   cat.62.jpg\tcat.93.jpg\n",
            "cat.123.jpg  cat.154.jpg  cat.185.jpg  cat.32.jpg   cat.63.jpg\tcat.94.jpg\n",
            "cat.124.jpg  cat.155.jpg  cat.186.jpg  cat.33.jpg   cat.64.jpg\tcat.95.jpg\n",
            "cat.125.jpg  cat.156.jpg  cat.187.jpg  cat.34.jpg   cat.65.jpg\tcat.96.jpg\n",
            "cat.126.jpg  cat.157.jpg  cat.188.jpg  cat.35.jpg   cat.66.jpg\tcat.97.jpg\n",
            "cat.127.jpg  cat.158.jpg  cat.189.jpg  cat.36.jpg   cat.67.jpg\tcat.98.jpg\n",
            "cat.128.jpg  cat.159.jpg  cat.18.jpg   cat.37.jpg   cat.68.jpg\tcat.99.jpg\n",
            "cat.129.jpg  cat.15.jpg   cat.190.jpg  cat.38.jpg   cat.69.jpg\tcat.9.jpg\n",
            "cat.12.jpg   cat.160.jpg  cat.191.jpg  cat.39.jpg   cat.6.jpg\n",
            "cat.130.jpg  cat.161.jpg  cat.192.jpg  cat.3.jpg    cat.70.jpg\n"
          ]
        }
      ]
    },
    {
      "cell_type": "code",
      "source": [
        "cd .."
      ],
      "metadata": {
        "colab": {
          "base_uri": "https://localhost:8080/"
        },
        "id": "wqekEEeCB1Ah",
        "outputId": "662b0e89-5856-41ff-e874-f78b2e678b74"
      },
      "execution_count": 50,
      "outputs": [
        {
          "output_type": "stream",
          "name": "stdout",
          "text": [
            "/content/own_data_cnn_implementation_keras/data\n"
          ]
        }
      ]
    },
    {
      "cell_type": "code",
      "source": [
        "cd dogs/"
      ],
      "metadata": {
        "colab": {
          "base_uri": "https://localhost:8080/"
        },
        "id": "w9Sx1pd2B_EB",
        "outputId": "7f7b62e8-8123-4a7f-89cd-87462828b790"
      },
      "execution_count": 51,
      "outputs": [
        {
          "output_type": "stream",
          "name": "stdout",
          "text": [
            "/content/own_data_cnn_implementation_keras/data/dogs\n"
          ]
        }
      ]
    },
    {
      "cell_type": "code",
      "source": [
        "!ls"
      ],
      "metadata": {
        "colab": {
          "base_uri": "https://localhost:8080/"
        },
        "id": "fIDryLNSCBmq",
        "outputId": "421f103a-87a4-4208-ba36-1611d3bc7437"
      },
      "execution_count": 52,
      "outputs": [
        {
          "output_type": "stream",
          "name": "stdout",
          "text": [
            "dog.100.jpg  dog.131.jpg  dog.162.jpg  dog.193.jpg  dog.40.jpg\tdog.71.jpg\n",
            "dog.101.jpg  dog.132.jpg  dog.163.jpg  dog.194.jpg  dog.41.jpg\tdog.72.jpg\n",
            "dog.102.jpg  dog.133.jpg  dog.164.jpg  dog.195.jpg  dog.42.jpg\tdog.73.jpg\n",
            "dog.103.jpg  dog.134.jpg  dog.165.jpg  dog.196.jpg  dog.43.jpg\tdog.74.jpg\n",
            "dog.104.jpg  dog.135.jpg  dog.166.jpg  dog.197.jpg  dog.44.jpg\tdog.75.jpg\n",
            "dog.105.jpg  dog.136.jpg  dog.167.jpg  dog.198.jpg  dog.45.jpg\tdog.76.jpg\n",
            "dog.106.jpg  dog.137.jpg  dog.168.jpg  dog.199.jpg  dog.46.jpg\tdog.77.jpg\n",
            "dog.107.jpg  dog.138.jpg  dog.169.jpg  dog.19.jpg   dog.47.jpg\tdog.78.jpg\n",
            "dog.108.jpg  dog.139.jpg  dog.16.jpg   dog.1.jpg    dog.48.jpg\tdog.79.jpg\n",
            "dog.109.jpg  dog.13.jpg   dog.170.jpg  dog.200.jpg  dog.49.jpg\tdog.7.jpg\n",
            "dog.10.jpg   dog.140.jpg  dog.171.jpg  dog.201.jpg  dog.4.jpg\tdog.80.jpg\n",
            "dog.110.jpg  dog.141.jpg  dog.172.jpg  dog.202.jpg  dog.50.jpg\tdog.81.jpg\n",
            "dog.111.jpg  dog.142.jpg  dog.173.jpg  dog.20.jpg   dog.51.jpg\tdog.82.jpg\n",
            "dog.112.jpg  dog.143.jpg  dog.174.jpg  dog.21.jpg   dog.52.jpg\tdog.83.jpg\n",
            "dog.113.jpg  dog.144.jpg  dog.175.jpg  dog.22.jpg   dog.53.jpg\tdog.84.jpg\n",
            "dog.114.jpg  dog.145.jpg  dog.176.jpg  dog.23.jpg   dog.54.jpg\tdog.85.jpg\n",
            "dog.115.jpg  dog.146.jpg  dog.177.jpg  dog.24.jpg   dog.55.jpg\tdog.86.jpg\n",
            "dog.116.jpg  dog.147.jpg  dog.178.jpg  dog.25.jpg   dog.56.jpg\tdog.87.jpg\n",
            "dog.117.jpg  dog.148.jpg  dog.179.jpg  dog.26.jpg   dog.57.jpg\tdog.88.jpg\n",
            "dog.118.jpg  dog.149.jpg  dog.17.jpg   dog.27.jpg   dog.58.jpg\tdog.89.jpg\n",
            "dog.119.jpg  dog.14.jpg   dog.180.jpg  dog.28.jpg   dog.59.jpg\tdog.8.jpg\n",
            "dog.11.jpg   dog.150.jpg  dog.181.jpg  dog.29.jpg   dog.5.jpg\tdog.90.jpg\n",
            "dog.120.jpg  dog.151.jpg  dog.182.jpg  dog.2.jpg    dog.60.jpg\tdog.91.jpg\n",
            "dog.121.jpg  dog.152.jpg  dog.183.jpg  dog.30.jpg   dog.61.jpg\tdog.92.jpg\n",
            "dog.122.jpg  dog.153.jpg  dog.184.jpg  dog.31.jpg   dog.62.jpg\tdog.93.jpg\n",
            "dog.123.jpg  dog.154.jpg  dog.185.jpg  dog.32.jpg   dog.63.jpg\tdog.94.jpg\n",
            "dog.124.jpg  dog.155.jpg  dog.186.jpg  dog.33.jpg   dog.64.jpg\tdog.95.jpg\n",
            "dog.125.jpg  dog.156.jpg  dog.187.jpg  dog.34.jpg   dog.65.jpg\tdog.96.jpg\n",
            "dog.126.jpg  dog.157.jpg  dog.188.jpg  dog.35.jpg   dog.66.jpg\tdog.97.jpg\n",
            "dog.127.jpg  dog.158.jpg  dog.189.jpg  dog.36.jpg   dog.67.jpg\tdog.98.jpg\n",
            "dog.128.jpg  dog.159.jpg  dog.18.jpg   dog.37.jpg   dog.68.jpg\tdog.99.jpg\n",
            "dog.129.jpg  dog.15.jpg   dog.190.jpg  dog.38.jpg   dog.69.jpg\tdog.9.jpg\n",
            "dog.12.jpg   dog.160.jpg  dog.191.jpg  dog.39.jpg   dog.6.jpg\n",
            "dog.130.jpg  dog.161.jpg  dog.192.jpg  dog.3.jpg    dog.70.jpg\n"
          ]
        }
      ]
    },
    {
      "cell_type": "code",
      "source": [
        "cd /"
      ],
      "metadata": {
        "colab": {
          "base_uri": "https://localhost:8080/"
        },
        "id": "xx1AB2hjCC5z",
        "outputId": "3afed6bb-10d2-4c24-8f81-9736a3a000ad"
      },
      "execution_count": 53,
      "outputs": [
        {
          "output_type": "stream",
          "name": "stdout",
          "text": [
            "/\n"
          ]
        }
      ]
    },
    {
      "cell_type": "code",
      "source": [
        "!ls"
      ],
      "metadata": {
        "colab": {
          "base_uri": "https://localhost:8080/"
        },
        "id": "fw7lLF5DCI7r",
        "outputId": "afe2f4c8-9131-4c81-fbca-a1941920ebd9"
      },
      "execution_count": 54,
      "outputs": [
        {
          "output_type": "stream",
          "name": "stdout",
          "text": [
            "bin\t\t\t    kaggle\t\t      opt\t\t sys\n",
            "boot\t\t\t    lib\t\t\t      proc\t\t tmp\n",
            "content\t\t\t    lib32\t\t      python-apt\t tools\n",
            "cuda-keyring_1.1-1_all.deb  lib64\t\t      python-apt.tar.xz  usr\n",
            "datalab\t\t\t    libx32\t\t      root\t\t var\n",
            "dev\t\t\t    media\t\t      run\n",
            "etc\t\t\t    mnt\t\t\t      sbin\n",
            "home\t\t\t    NGC-DL-CONTAINER-LICENSE  srv\n"
          ]
        }
      ]
    },
    {
      "cell_type": "code",
      "source": [
        "cd content/"
      ],
      "metadata": {
        "colab": {
          "base_uri": "https://localhost:8080/"
        },
        "id": "Lhsdj_NcCJnE",
        "outputId": "d31c7f7c-24c0-4f51-ed67-e02c1fa9da6d"
      },
      "execution_count": 55,
      "outputs": [
        {
          "output_type": "stream",
          "name": "stdout",
          "text": [
            "/content\n"
          ]
        }
      ]
    },
    {
      "cell_type": "code",
      "source": [
        "!ls"
      ],
      "metadata": {
        "colab": {
          "base_uri": "https://localhost:8080/"
        },
        "id": "6xejsft5CM4X",
        "outputId": "d9651d65-b4d7-4925-fe6f-67ef23244a81"
      },
      "execution_count": 56,
      "outputs": [
        {
          "output_type": "stream",
          "name": "stdout",
          "text": [
            "own_data_cnn_implementation_keras  sample_data\n"
          ]
        }
      ]
    },
    {
      "cell_type": "code",
      "source": [
        "cd sample_data/"
      ],
      "metadata": {
        "colab": {
          "base_uri": "https://localhost:8080/"
        },
        "id": "VUAvAcFqCNev",
        "outputId": "23e10bd5-99c4-4a4c-c63f-d92fe08b4355"
      },
      "execution_count": 57,
      "outputs": [
        {
          "output_type": "stream",
          "name": "stdout",
          "text": [
            "/content/sample_data\n"
          ]
        }
      ]
    },
    {
      "cell_type": "code",
      "source": [
        "!rm -rf own_data_cnn_implementation_keras\n"
      ],
      "metadata": {
        "id": "zt8PN8CLCPfK"
      },
      "execution_count": 58,
      "outputs": []
    },
    {
      "cell_type": "code",
      "source": [],
      "metadata": {
        "id": "UUacRrHdCTfS"
      },
      "execution_count": null,
      "outputs": []
    }
  ]
}