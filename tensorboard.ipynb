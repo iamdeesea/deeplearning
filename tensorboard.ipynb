{
  "nbformat": 4,
  "nbformat_minor": 0,
  "metadata": {
    "colab": {
      "provenance": [],
      "authorship_tag": "ABX9TyNyCYkupCOAqBoz4FStvLr6",
      "include_colab_link": true
    },
    "kernelspec": {
      "name": "python3",
      "display_name": "Python 3"
    },
    "language_info": {
      "name": "python"
    }
  },
  "cells": [
    {
      "cell_type": "markdown",
      "metadata": {
        "id": "view-in-github",
        "colab_type": "text"
      },
      "source": [
        "<a href=\"https://colab.research.google.com/github/iamdeesea/deeplearning/blob/main/tensorboard.ipynb\" target=\"_parent\"><img src=\"https://colab.research.google.com/assets/colab-badge.svg\" alt=\"Open In Colab\"/></a>"
      ]
    },
    {
      "cell_type": "code",
      "execution_count": 16,
      "metadata": {
        "colab": {
          "base_uri": "https://localhost:8080/"
        },
        "id": "bYXdnEgckYBX",
        "outputId": "7e0aefe0-7f2d-4aa3-a37b-b81d28746ca1"
      },
      "outputs": [
        {
          "output_type": "stream",
          "name": "stdout",
          "text": [
            "94.5\n"
          ]
        }
      ],
      "source": [
        "import tensorflow.compat.v1 as tf\n",
        "tf.disable_v2_behavior()\n",
        "a = tf.add(1, 2)\n",
        "b = tf.multiply(a, 3)\n",
        "c = tf.add(4, 5)\n",
        "\n",
        "d = tf.multiply(c, 6)\n",
        "e = tf.multiply(4, 5)\n",
        "f = tf.divide(c, 6)\n",
        "\n",
        "g = tf.add(b, d)\n",
        "g=tf.cast(g,tf.float64)\n",
        "h = tf.multiply(g, f)\n",
        "\n",
        "with tf.Session() as sess:\n",
        "  writer = tf.summary.FileWriter(\"/logs\",sess.graph)\n",
        "  print(sess.run(h))\n",
        "  writer.close()\n",
        "\n",
        "\n"
      ]
    },
    {
      "cell_type": "code",
      "source": [
        "from google.colab import drive\n",
        "drive.mount('/content/drive')"
      ],
      "metadata": {
        "id": "cHGMgUNxyMHt"
      },
      "execution_count": null,
      "outputs": []
    },
    {
      "cell_type": "code",
      "source": [
        "cd.."
      ],
      "metadata": {
        "colab": {
          "base_uri": "https://localhost:8080/",
          "height": 106
        },
        "id": "2KXHeC7hvBd5",
        "outputId": "b5306608-8078-4e06-a6c2-7221ce6e02c5"
      },
      "execution_count": 11,
      "outputs": [
        {
          "output_type": "error",
          "ename": "SyntaxError",
          "evalue": "invalid syntax (ipython-input-11-223093403.py, line 1)",
          "traceback": [
            "\u001b[0;36m  File \u001b[0;32m\"/tmp/ipython-input-11-223093403.py\"\u001b[0;36m, line \u001b[0;32m1\u001b[0m\n\u001b[0;31m    cd..\u001b[0m\n\u001b[0m       ^\u001b[0m\n\u001b[0;31mSyntaxError\u001b[0m\u001b[0;31m:\u001b[0m invalid syntax\n"
          ]
        }
      ]
    },
    {
      "cell_type": "code",
      "source": [
        "cd .."
      ],
      "metadata": {
        "colab": {
          "base_uri": "https://localhost:8080/"
        },
        "id": "VZzMHhAAyCT8",
        "outputId": "321a11c5-c56c-4eb7-e224-93a82a63a4e9"
      },
      "execution_count": 12,
      "outputs": [
        {
          "output_type": "stream",
          "name": "stdout",
          "text": [
            "/\n"
          ]
        }
      ]
    },
    {
      "cell_type": "code",
      "source": [
        "!ls\n"
      ],
      "metadata": {
        "colab": {
          "base_uri": "https://localhost:8080/"
        },
        "id": "iPLmv2_NyDRo",
        "outputId": "9c9eeef1-5047-446a-87bb-9fe282731455"
      },
      "execution_count": 13,
      "outputs": [
        {
          "output_type": "stream",
          "name": "stdout",
          "text": [
            "bin\t\t\t    kaggle  NGC-DL-CONTAINER-LICENSE  srv\n",
            "boot\t\t\t    lib     opt\t\t\t      sys\n",
            "content\t\t\t    lib32   proc\t\t      tmp\n",
            "cuda-keyring_1.1-1_all.deb  lib64   python-apt\t\t      tools\n",
            "datalab\t\t\t    libx32  python-apt.tar.xz\t      usr\n",
            "dev\t\t\t    logs    root\t\t      var\n",
            "etc\t\t\t    media   run\n",
            "home\t\t\t    mnt     sbin\n"
          ]
        }
      ]
    },
    {
      "cell_type": "code",
      "source": [
        "cd content/"
      ],
      "metadata": {
        "colab": {
          "base_uri": "https://localhost:8080/"
        },
        "id": "NBkzPUGfyEb6",
        "outputId": "a4c8c360-698b-4744-ec11-8e0c3e69f020"
      },
      "execution_count": 14,
      "outputs": [
        {
          "output_type": "stream",
          "name": "stdout",
          "text": [
            "/content\n"
          ]
        }
      ]
    },
    {
      "cell_type": "code",
      "source": [
        "import tensorflow.compat.v1 as tf\n",
        "tf.disable_v2_behavior()\n",
        "with tf.name_scope(\"mygraph\"):\n",
        "  with tf.name_scope(\"scope1\"):\n",
        "\n",
        "    a = tf.add(1, 2)\n",
        "    b = tf.multiply(a, 3)\n",
        "  with tf.name_scope(\"scope2\"):\n",
        "    c = tf.add(4, 5)\n",
        "\n",
        "    d = tf.multiply(c, 6)\n",
        "  with tf.name_scope(\"scope3\"):\n",
        "    e = tf.multiply(4, 5)\n",
        "    f = tf.divide(c, 6)\n",
        "  with tf.name_scope(\"scope4\"):\n",
        "    g = tf.add(b, d)\n",
        "    g=tf.cast(g,tf.float64)\n",
        "    h = tf.multiply(g, f)\n",
        "\n",
        "with tf.Session() as sess:\n",
        "  writer = tf.summary.FileWriter(\"/content/logs\",sess.graph)\n",
        "  print(sess.run(h))\n",
        "  writer.close()\n"
      ],
      "metadata": {
        "colab": {
          "base_uri": "https://localhost:8080/"
        },
        "id": "kWDuWY9pyHzc",
        "outputId": "27b9ae53-bd7a-432b-cfb7-f0284aaaeaef"
      },
      "execution_count": 20,
      "outputs": [
        {
          "output_type": "stream",
          "name": "stdout",
          "text": [
            "94.5\n"
          ]
        }
      ]
    },
    {
      "cell_type": "code",
      "source": [],
      "metadata": {
        "id": "OT6_WTAL04al"
      },
      "execution_count": null,
      "outputs": []
    }
  ]
}