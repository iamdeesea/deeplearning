{
  "nbformat": 4,
  "nbformat_minor": 0,
  "metadata": {
    "colab": {
      "provenance": [],
      "authorship_tag": "ABX9TyMefQXhKiRgoGwMPmlQwHJh",
      "include_colab_link": true
    },
    "kernelspec": {
      "name": "python3",
      "display_name": "Python 3"
    },
    "language_info": {
      "name": "python"
    }
  },
  "cells": [
    {
      "cell_type": "markdown",
      "metadata": {
        "id": "view-in-github",
        "colab_type": "text"
      },
      "source": [
        "<a href=\"https://colab.research.google.com/github/iamdeesea/deeplearning/blob/main/tfscalarsummary.ipynb\" target=\"_parent\"><img src=\"https://colab.research.google.com/assets/colab-badge.svg\" alt=\"Open In Colab\"/></a>"
      ]
    },
    {
      "cell_type": "code",
      "execution_count": 6,
      "metadata": {
        "id": "GNra4IuQ2YEq"
      },
      "outputs": [],
      "source": [
        "import tensorflow.compat.v1 as tf\n",
        "tf.disable_v2_behavior()\n",
        "tf.reset_default_graph()\n",
        "s_scalar=tf.get_variable(\"s_scalar\",shape=[],initializer=tf.truncated_normal_initializer(0,1))\n",
        "first_summary=tf.summary.scalar(\"First_summary\",s_scalar)\n",
        "init = tf.global_variables_initializer()\n",
        "with tf.Session() as sess:\n",
        "    writer=tf.summary.FileWriter(\"./logs\",sess.graph)\n",
        "    for i in range(100):\n",
        "      sess.run(init)\n",
        "      summary=sess.run(first_summary)\n",
        "      writer.add_summary(summary,i)"
      ]
    },
    {
      "cell_type": "code",
      "source": [],
      "metadata": {
        "id": "eOSiNUFS3-OF"
      },
      "execution_count": null,
      "outputs": []
    }
  ]
}